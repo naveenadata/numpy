{
  "cells": [
    {
      "cell_type": "code",
      "execution_count": 30,
      "metadata": {
        "id": "WuIKea0Njxj7"
      },
      "outputs": [],
      "source": [
        "import numpy as np\n"
      ]
    },
    {
      "cell_type": "markdown",
      "metadata": {
        "id": "rLsUO-sI0H1F"
      },
      "source": [
        "### 🎯 **Objective:**\n",
        "\n",
        "You are working with student marks data and need to prepare and organize it using NumPy arrays.Your goal is to create, modify, and analyze the data efficiently without using any external libraries.\n",
        "\n",
        "### 🧠 **Project Description:**\n",
        "\n",
        "A school has recorded the marks of several students in different subjects.You are required to design a NumPy-based solution to store, manage, and process this data.Your tasks involve creating arrays, changing their shapes, combining data, performing modifications, and analyzing patterns — all using NumPy.\n",
        "\n",
        "### 📋 **Project Tasks:**\n",
        "\n",
        "1.  **Data Creation:**Create suitable arrays to represent students, subjects, and their marks.\n",
        "    \n",
        "2.  **Data Exploration:**Explore the properties of these arrays — such as their dimensions, size, and structure.\n",
        "    \n",
        "3.  **Data Transformation:**Perform necessary reshaping and reorganization of the data to suit various operations.\n",
        "    \n",
        "4.  **Data Combination:**Merge or split arrays to simulate adding new students, new subjects, or reorganizing the dataset.\n",
        "    \n",
        "5.  **Data Modification:**Apply operations to update marks, remove data, or identify unique information.\n",
        "    \n",
        "6.  **Data Type Handling:**Demonstrate how the same data can exist in different data types and how changes affect results.\n",
        "    \n",
        "7.  **Copy and View Behavior:**Show the difference between creating a full copy of an array and creating a view of the same data."
      ]
    },
    {
      "cell_type": "markdown",
      "metadata": {
        "id": "PTBXiCAokTKz"
      },
      "source": [
        "1.  **Data Creation:**Create suitable arrays to represent students, subjects, and their marks.\n"
      ]
    },
    {
      "cell_type": "code",
      "execution_count": 31,
      "metadata": {
        "colab": {
          "base_uri": "https://localhost:8080/"
        },
        "id": "4rOS-yVkkazV",
        "outputId": "277fcbe9-732b-4dd9-dab9-cc3c4d97f330"
      },
      "outputs": [
        {
          "name": "stdout",
          "output_type": "stream",
          "text": [
            "CREATION OF 2D ARRAY\n",
            " [[78 82 69 90]\n",
            " [88 75 92 85]\n",
            " [80 70 88 78]\n",
            " [65 60 75 70]\n",
            " [90 85 95 88]]\n"
          ]
        }
      ],
      "source": [
        "# Creation of 2D array Assuming students and subjects as marks\n",
        "# Assume: 5 students (rows), 4 subjects (columns)\n",
        "\n",
        "marks = np.array([\n",
        "    [78, 82, 69, 90],\n",
        "    [88, 75, 92, 85],\n",
        "    [80, 70, 88, 78],\n",
        "    [65, 60, 75, 70],\n",
        "    [90, 85, 95, 88]\n",
        "])\n",
        "print(\"CREATION OF 2D ARRAY\\n\",marks)"
      ]
    },
    {
      "cell_type": "markdown",
      "metadata": {
        "id": "xmOpsMufleuz"
      },
      "source": [
        "2.  **Data Exploration:**Explore the properties of these arrays — such as their dimensions, size, and structure."
      ]
    },
    {
      "cell_type": "code",
      "execution_count": 32,
      "metadata": {
        "colab": {
          "base_uri": "https://localhost:8080/"
        },
        "id": "4TIXtbEJlgpO",
        "outputId": "68a6fe6a-87bc-43b2-b0c8-88b39bf7d0f6"
      },
      "outputs": [
        {
          "name": "stdout",
          "output_type": "stream",
          "text": [
            "SHAPE OF THE ARRY: (5, 4)\n",
            "DIMENSIONS OF THE ARRY: 2\n",
            "SIZE OF THE ARRAY 20\n",
            "DATATYPE OF ARRAY ELEMENTS int64\n"
          ]
        }
      ],
      "source": [
        "#Displaying the array properties\n",
        "\n",
        "#Shape of the array\n",
        "print(\"SHAPE OF THE ARRY:\",marks.shape)\n",
        "\n",
        "#Dimensions of array\n",
        "print(\"DIMENSIONS OF THE ARRY:\",marks.ndim)\n",
        "\n",
        "#Size of the array\n",
        "print(\"SIZE OF THE ARRAY\",marks.size)\n",
        "\n",
        "#datatype of array elements\n",
        "print(\"DATATYPE OF ARRAY ELEMENTS\",marks.dtype)"
      ]
    },
    {
      "cell_type": "markdown",
      "metadata": {
        "id": "HSdR9JpSm7Lb"
      },
      "source": [
        "3.**Data Transformation:**Perform necessary reshaping and reorganization of the data to suit various operations."
      ]
    },
    {
      "cell_type": "code",
      "execution_count": 33,
      "metadata": {
        "colab": {
          "base_uri": "https://localhost:8080/"
        },
        "id": "FsaMJkoCnPhs",
        "outputId": "71d6fc45-36c7-475b-993c-a4ece634a4ef"
      },
      "outputs": [
        {
          "name": "stdout",
          "output_type": "stream",
          "text": [
            "Transposed (Subjects as Rows):\n",
            " [[78 88 80 65 90]\n",
            " [82 75 70 60 85]\n",
            " [69 92 88 75 95]\n",
            " [90 85 78 70 88]]\n",
            "Reshaped (2x10):\n",
            " [[78 82 69 90 88 75 92 85 80 70]\n",
            " [88 78 65 60 75 70 90 85 95 88]]\n",
            "Flattened (1xN 2D Form):\n",
            " [[78 82 69 90 88 75 92 85 80 70 88 78 65 60 75 70 90 85 95 88]]\n"
          ]
        }
      ],
      "source": [
        "# TRANSFORMING THE ARRAY DATA\n",
        "# Transpose (swap rows & columns)\n",
        "transposed = marks.T\n",
        "# Reshape into new 2D form (2 rows, 10 columns)\n",
        "reshaped = marks.reshape(2, 10)\n",
        "# Flatten back to 2D (1 row, all values)\n",
        "flattened_2d = marks.reshape(1, -1)\n",
        "\n",
        "print(\"Transposed (Subjects as Rows):\\n\", transposed)\n",
        "print(\"Reshaped (2x10):\\n\", reshaped)\n",
        "print(\"Flattened (1xN 2D Form):\\n\", flattened_2d)"
      ]
    },
    {
      "cell_type": "markdown",
      "metadata": {
        "id": "GpwUCBviqcJN"
      },
      "source": [
        "4.  **Data Combination:**Merge or split arrays to simulate adding new students, new subjects, or reorganizing the dataset."
      ]
    },
    {
      "cell_type": "code",
      "execution_count": 34,
      "metadata": {
        "colab": {
          "base_uri": "https://localhost:8080/"
        },
        "id": "VGHyFNKeqbF2",
        "outputId": "04c64999-fb8e-4349-e72b-4bfa14996051"
      },
      "outputs": [
        {
          "name": "stdout",
          "output_type": "stream",
          "text": [
            "After Adding New Student and Subject\n",
            " [[78 82 69 90 70]\n",
            " [88 75 92 85 68]\n",
            " [80 70 88 78 72]\n",
            " [65 60 75 70 60]\n",
            " [90 85 95 88 90]\n",
            " [85 80 75 88 80]]\n"
          ]
        }
      ],
      "source": [
        "# DATA COMBINATION\n",
        "# Add a new student (new row)\n",
        "new_student = np.array([[85, 80, 75, 88]])\n",
        "marks = np.vstack((marks, new_student))\n",
        "\n",
        "# Add a new subject (new column)\n",
        "new_subject = np.array([[70], [68], [72], [60], [90], [80]])\n",
        "marks = np.hstack((marks, new_subject))\n",
        "\n",
        "print(\"After Adding New Student and Subject\\n\", marks)"
      ]
    },
    {
      "cell_type": "markdown",
      "metadata": {
        "id": "wohHwuPxqTdW"
      },
      "source": [
        "5.  **Data Modification:**Apply operations to update marks, remove data, or identify unique information."
      ]
    },
    {
      "cell_type": "code",
      "execution_count": 35,
      "metadata": {
        "colab": {
          "base_uri": "https://localhost:8080/"
        },
        "id": "m3BgpT58qZoJ",
        "outputId": "e8ac3cb2-e308-44e1-ad1b-3d58e780d4e1"
      },
      "outputs": [
        {
          "name": "stdout",
          "output_type": "stream",
          "text": [
            "After Modifications\n",
            " [[78 82 69 90 70]\n",
            " [88 75 92 85 68]\n",
            " [80 70 88 78 72]\n",
            " [90 85 95 88 90]\n",
            " [85 80 75 88 80]]\n",
            "Unique Marks\n",
            " [68 69 70 72 75 78 80 82 85 88 90 92 95]\n"
          ]
        }
      ],
      "source": [
        "# Modifying the data like update marks,deleting the students and finding unique values\n",
        "# Remove one student (4th row)\n",
        "marks = np.delete(marks, 3, axis=0)\n",
        "# Unique marks\n",
        "unique_vals = np.unique(marks)\n",
        "\n",
        "print(\"After Modifications\\n\", marks)\n",
        "print(\"Unique Marks\\n\", unique_vals)"
      ]
    },
    {
      "cell_type": "markdown",
      "metadata": {
        "id": "Po5fZBlroveo"
      },
      "source": [
        "6.  **Data Type Handling:**Demonstrate how the same data can exist in different data types and how changes affect results."
      ]
    },
    {
      "cell_type": "code",
      "execution_count": 36,
      "metadata": {
        "colab": {
          "base_uri": "https://localhost:8080/"
        },
        "id": "_-DSkP7Jo3o0",
        "outputId": "d0c384b4-e292-419c-82a5-fa003dc22f7f"
      },
      "outputs": [
        {
          "name": "stdout",
          "output_type": "stream",
          "text": [
            "Float Data Type\n",
            " [[78. 82. 69. 90. 70.]\n",
            " [88. 75. 92. 85. 68.]\n",
            " [80. 70. 88. 78. 72.]\n",
            " [90. 85. 95. 88. 90.]\n",
            " [85. 80. 75. 88. 80.]]\n",
            "Complex Data Type\n",
            " [[78.+0.j 82.+0.j 69.+0.j 90.+0.j 70.+0.j]\n",
            " [88.+0.j 75.+0.j 92.+0.j 85.+0.j 68.+0.j]\n",
            " [80.+0.j 70.+0.j 88.+0.j 78.+0.j 72.+0.j]\n",
            " [90.+0.j 85.+0.j 95.+0.j 88.+0.j 90.+0.j]\n",
            " [85.+0.j 80.+0.j 75.+0.j 88.+0.j 80.+0.j]]\n",
            "String Data Type\n",
            " [['78' '82' '69' '90' '70']\n",
            " ['88' '75' '92' '85' '68']\n",
            " ['80' '70' '88' '78' '72']\n",
            " ['90' '85' '95' '88' '90']\n",
            " ['85' '80' '75' '88' '80']]\n"
          ]
        }
      ],
      "source": [
        "# Changing The datatype of array elements such as float complex str\n",
        "#Converting into float datatype\n",
        "marks_float = marks.astype(float)\n",
        "\n",
        "#converting into complex datatype\n",
        "marks_complex = marks.astype(complex)\n",
        "\n",
        "#converting into str data type\n",
        "marks_str = marks.astype(str)\n",
        "\n",
        "print(\"Float Data Type\\n\", marks_float)\n",
        "print(\"Complex Data Type\\n\", marks_complex)\n",
        "print(\"String Data Type\\n\", marks_str)\n",
        "\n"
      ]
    },
    {
      "cell_type": "markdown",
      "metadata": {
        "id": "N9QTBpqdnsWX"
      },
      "source": [
        "7.  **Copy and View Behavior:**Show the difference between creating a full copy of an array and creating a view of the same data.\n"
      ]
    },
    {
      "cell_type": "code",
      "execution_count": 37,
      "metadata": {
        "colab": {
          "base_uri": "https://localhost:8080/"
        },
        "id": "Ikuzvmymnt5w",
        "outputId": "ee94869f-0d30-4495-a3e3-d6e584114ba6"
      },
      "outputs": [
        {
          "name": "stdout",
          "output_type": "stream",
          "text": [
            "Original Marks\n",
            " [[999  82  69  90  70]\n",
            " [ 88  75  92  85  68]\n",
            " [ 80  70  88  78  72]\n",
            " [ 90  85  95  88  90]\n",
            " [ 85  80  75  88  80]]\n",
            "Copy (NOT CHANGED)\n",
            " [[78 82 69 90 70]\n",
            " [88 75 92 85 68]\n",
            " [80 70 88 78 72]\n",
            " [90 85 95 88 90]\n",
            " [85 80 75 88 80]]\n",
            "View (CHANGED):\n",
            " [[999  82  69  90  70]\n",
            " [ 88  75  92  85  68]\n",
            " [ 80  70  88  78  72]\n",
            " [ 90  85  95  88  90]\n",
            " [ 85  80  75  88  80]]\n"
          ]
        }
      ],
      "source": [
        "# Showing the diffrence between creating a array using copy and view\n",
        "\n",
        "marks_copy = marks.copy()\n",
        "marks_view = marks.view()\n",
        "\n",
        "# Modify original\n",
        "marks[0, 0] = 999\n",
        "\n",
        "print(\"Original Marks\\n\", marks)\n",
        "print(\"Copy (NOT CHANGED)\\n\", marks_copy)\n",
        "print(\"View (CHANGED):\\n\", marks_view)"
      ]
    }
  ],
  "metadata": {
    "colab": {
      "provenance": []
    },
    "kernelspec": {
      "display_name": "Python 3",
      "name": "python3"
    },
    "language_info": {
      "name": "python"
    }
  },
  "nbformat": 4,
  "nbformat_minor": 0
}
